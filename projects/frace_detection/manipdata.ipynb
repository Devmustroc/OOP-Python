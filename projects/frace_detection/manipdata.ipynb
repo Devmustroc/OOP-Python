{
 "cells": [
  {
   "cell_type": "code",
   "execution_count": 4,
   "metadata": {
    "collapsed": true
   },
   "outputs": [],
   "source": [
    "import pandas as pd"
   ]
  },
  {
   "cell_type": "code",
   "execution_count": 7,
   "outputs": [
    {
     "data": {
      "text/plain": "   Date  Visitors  BR    Country  Clicks        Day\n0     1      1500  20        USA      20    Tuesday\n1     2       700  25         UK      35  Wednesday\n2     3       900  15      India      37   Thursday\n3     4       400  35        USA      12     Friday\n4     5       500  14     Canada      35   Saturday\n5     6       700  15      India      32     Sunday\n6     7       600  20      India      37     Monday\n7     8       700  16        USA      40    Tuesday\n8     9      1200  27        USA      52  Wednesday\n9    10      1400  32  Australia      57   Thursday",
      "text/html": "<div>\n<style scoped>\n    .dataframe tbody tr th:only-of-type {\n        vertical-align: middle;\n    }\n\n    .dataframe tbody tr th {\n        vertical-align: top;\n    }\n\n    .dataframe thead th {\n        text-align: right;\n    }\n</style>\n<table border=\"1\" class=\"dataframe\">\n  <thead>\n    <tr style=\"text-align: right;\">\n      <th></th>\n      <th>Date</th>\n      <th>Visitors</th>\n      <th>BR</th>\n      <th>Country</th>\n      <th>Clicks</th>\n      <th>Day</th>\n    </tr>\n  </thead>\n  <tbody>\n    <tr>\n      <th>0</th>\n      <td>1</td>\n      <td>1500</td>\n      <td>20</td>\n      <td>USA</td>\n      <td>20</td>\n      <td>Tuesday</td>\n    </tr>\n    <tr>\n      <th>1</th>\n      <td>2</td>\n      <td>700</td>\n      <td>25</td>\n      <td>UK</td>\n      <td>35</td>\n      <td>Wednesday</td>\n    </tr>\n    <tr>\n      <th>2</th>\n      <td>3</td>\n      <td>900</td>\n      <td>15</td>\n      <td>India</td>\n      <td>37</td>\n      <td>Thursday</td>\n    </tr>\n    <tr>\n      <th>3</th>\n      <td>4</td>\n      <td>400</td>\n      <td>35</td>\n      <td>USA</td>\n      <td>12</td>\n      <td>Friday</td>\n    </tr>\n    <tr>\n      <th>4</th>\n      <td>5</td>\n      <td>500</td>\n      <td>14</td>\n      <td>Canada</td>\n      <td>35</td>\n      <td>Saturday</td>\n    </tr>\n    <tr>\n      <th>5</th>\n      <td>6</td>\n      <td>700</td>\n      <td>15</td>\n      <td>India</td>\n      <td>32</td>\n      <td>Sunday</td>\n    </tr>\n    <tr>\n      <th>6</th>\n      <td>7</td>\n      <td>600</td>\n      <td>20</td>\n      <td>India</td>\n      <td>37</td>\n      <td>Monday</td>\n    </tr>\n    <tr>\n      <th>7</th>\n      <td>8</td>\n      <td>700</td>\n      <td>16</td>\n      <td>USA</td>\n      <td>40</td>\n      <td>Tuesday</td>\n    </tr>\n    <tr>\n      <th>8</th>\n      <td>9</td>\n      <td>1200</td>\n      <td>27</td>\n      <td>USA</td>\n      <td>52</td>\n      <td>Wednesday</td>\n    </tr>\n    <tr>\n      <th>9</th>\n      <td>10</td>\n      <td>1400</td>\n      <td>32</td>\n      <td>Australia</td>\n      <td>57</td>\n      <td>Thursday</td>\n    </tr>\n  </tbody>\n</table>\n</div>"
     },
     "execution_count": 7,
     "metadata": {},
     "output_type": "execute_result"
    }
   ],
   "source": [
    "df1 = pd.read_csv(\"traffic.csv\")\n",
    "df1"
   ],
   "metadata": {
    "collapsed": false
   }
  },
  {
   "cell_type": "code",
   "execution_count": 15,
   "outputs": [
    {
     "data": {
      "text/plain": "   Visitors  BR Country  Clicks        Day\n1       700  25      UK      35  Wednesday\n2       900  15   India      37   Thursday\n3       400  35     USA      12     Friday\n4       500  14  Canada      35   Saturday",
      "text/html": "<div>\n<style scoped>\n    .dataframe tbody tr th:only-of-type {\n        vertical-align: middle;\n    }\n\n    .dataframe tbody tr th {\n        vertical-align: top;\n    }\n\n    .dataframe thead th {\n        text-align: right;\n    }\n</style>\n<table border=\"1\" class=\"dataframe\">\n  <thead>\n    <tr style=\"text-align: right;\">\n      <th></th>\n      <th>Visitors</th>\n      <th>BR</th>\n      <th>Country</th>\n      <th>Clicks</th>\n      <th>Day</th>\n    </tr>\n  </thead>\n  <tbody>\n    <tr>\n      <th>1</th>\n      <td>700</td>\n      <td>25</td>\n      <td>UK</td>\n      <td>35</td>\n      <td>Wednesday</td>\n    </tr>\n    <tr>\n      <th>2</th>\n      <td>900</td>\n      <td>15</td>\n      <td>India</td>\n      <td>37</td>\n      <td>Thursday</td>\n    </tr>\n    <tr>\n      <th>3</th>\n      <td>400</td>\n      <td>35</td>\n      <td>USA</td>\n      <td>12</td>\n      <td>Friday</td>\n    </tr>\n    <tr>\n      <th>4</th>\n      <td>500</td>\n      <td>14</td>\n      <td>Canada</td>\n      <td>35</td>\n      <td>Saturday</td>\n    </tr>\n  </tbody>\n</table>\n</div>"
     },
     "execution_count": 15,
     "metadata": {},
     "output_type": "execute_result"
    }
   ],
   "source": [
    "df5 = df1.loc[1:4, \"Visitors\":\"Day\"]\n",
    "df5"
   ],
   "metadata": {
    "collapsed": false
   }
  },
  {
   "cell_type": "code",
   "execution_count": 14,
   "outputs": [
    {
     "data": {
      "text/plain": "   Date  Visitors  BR    Country  Clicks        Day\n0     1      1500  20        USA      20    Tuesday\n1     2       700  25         UK      35  Wednesday\n2     3       900  15      India      37   Thursday\n3     4       400  35        USA      12     Friday\n4     5       500  14     Canada      35   Saturday\n5     6       700  15      India      32     Sunday\n6     7       600  20      India      37     Monday\n7     8       700  16        USA      40    Tuesday\n8     9      1200  27        USA      52  Wednesday\n9    10      1400  32  Australia      57   Thursday",
      "text/html": "<div>\n<style scoped>\n    .dataframe tbody tr th:only-of-type {\n        vertical-align: middle;\n    }\n\n    .dataframe tbody tr th {\n        vertical-align: top;\n    }\n\n    .dataframe thead th {\n        text-align: right;\n    }\n</style>\n<table border=\"1\" class=\"dataframe\">\n  <thead>\n    <tr style=\"text-align: right;\">\n      <th></th>\n      <th>Date</th>\n      <th>Visitors</th>\n      <th>BR</th>\n      <th>Country</th>\n      <th>Clicks</th>\n      <th>Day</th>\n    </tr>\n  </thead>\n  <tbody>\n    <tr>\n      <th>0</th>\n      <td>1</td>\n      <td>1500</td>\n      <td>20</td>\n      <td>USA</td>\n      <td>20</td>\n      <td>Tuesday</td>\n    </tr>\n    <tr>\n      <th>1</th>\n      <td>2</td>\n      <td>700</td>\n      <td>25</td>\n      <td>UK</td>\n      <td>35</td>\n      <td>Wednesday</td>\n    </tr>\n    <tr>\n      <th>2</th>\n      <td>3</td>\n      <td>900</td>\n      <td>15</td>\n      <td>India</td>\n      <td>37</td>\n      <td>Thursday</td>\n    </tr>\n    <tr>\n      <th>3</th>\n      <td>4</td>\n      <td>400</td>\n      <td>35</td>\n      <td>USA</td>\n      <td>12</td>\n      <td>Friday</td>\n    </tr>\n    <tr>\n      <th>4</th>\n      <td>5</td>\n      <td>500</td>\n      <td>14</td>\n      <td>Canada</td>\n      <td>35</td>\n      <td>Saturday</td>\n    </tr>\n    <tr>\n      <th>5</th>\n      <td>6</td>\n      <td>700</td>\n      <td>15</td>\n      <td>India</td>\n      <td>32</td>\n      <td>Sunday</td>\n    </tr>\n    <tr>\n      <th>6</th>\n      <td>7</td>\n      <td>600</td>\n      <td>20</td>\n      <td>India</td>\n      <td>37</td>\n      <td>Monday</td>\n    </tr>\n    <tr>\n      <th>7</th>\n      <td>8</td>\n      <td>700</td>\n      <td>16</td>\n      <td>USA</td>\n      <td>40</td>\n      <td>Tuesday</td>\n    </tr>\n    <tr>\n      <th>8</th>\n      <td>9</td>\n      <td>1200</td>\n      <td>27</td>\n      <td>USA</td>\n      <td>52</td>\n      <td>Wednesday</td>\n    </tr>\n    <tr>\n      <th>9</th>\n      <td>10</td>\n      <td>1400</td>\n      <td>32</td>\n      <td>Australia</td>\n      <td>57</td>\n      <td>Thursday</td>\n    </tr>\n  </tbody>\n</table>\n</div>"
     },
     "execution_count": 14,
     "metadata": {},
     "output_type": "execute_result"
    }
   ],
   "source": [
    "df1"
   ],
   "metadata": {
    "collapsed": false
   }
  },
  {
   "cell_type": "code",
   "execution_count": 16,
   "outputs": [
    {
     "data": {
      "text/plain": "   Visitors  BR Country  Clicks        Day\n1       700  25      UK      35  Wednesday\n2       900  15   India      37   Thursday\n3       400  35     USA      12     Friday\n4       500  14  Canada      35   Saturday",
      "text/html": "<div>\n<style scoped>\n    .dataframe tbody tr th:only-of-type {\n        vertical-align: middle;\n    }\n\n    .dataframe tbody tr th {\n        vertical-align: top;\n    }\n\n    .dataframe thead th {\n        text-align: right;\n    }\n</style>\n<table border=\"1\" class=\"dataframe\">\n  <thead>\n    <tr style=\"text-align: right;\">\n      <th></th>\n      <th>Visitors</th>\n      <th>BR</th>\n      <th>Country</th>\n      <th>Clicks</th>\n      <th>Day</th>\n    </tr>\n  </thead>\n  <tbody>\n    <tr>\n      <th>1</th>\n      <td>700</td>\n      <td>25</td>\n      <td>UK</td>\n      <td>35</td>\n      <td>Wednesday</td>\n    </tr>\n    <tr>\n      <th>2</th>\n      <td>900</td>\n      <td>15</td>\n      <td>India</td>\n      <td>37</td>\n      <td>Thursday</td>\n    </tr>\n    <tr>\n      <th>3</th>\n      <td>400</td>\n      <td>35</td>\n      <td>USA</td>\n      <td>12</td>\n      <td>Friday</td>\n    </tr>\n    <tr>\n      <th>4</th>\n      <td>500</td>\n      <td>14</td>\n      <td>Canada</td>\n      <td>35</td>\n      <td>Saturday</td>\n    </tr>\n  </tbody>\n</table>\n</div>"
     },
     "execution_count": 16,
     "metadata": {},
     "output_type": "execute_result"
    }
   ],
   "source": [
    "df5"
   ],
   "metadata": {
    "collapsed": false
   }
  },
  {
   "cell_type": "code",
   "execution_count": 17,
   "outputs": [
    {
     "data": {
      "text/plain": "   BR    Country  Clicks        Day\n3  35        USA      12     Friday\n4  14     Canada      35   Saturday\n5  15      India      32     Sunday\n6  20      India      37     Monday\n7  16        USA      40    Tuesday\n8  27        USA      52  Wednesday\n9  32  Australia      57   Thursday",
      "text/html": "<div>\n<style scoped>\n    .dataframe tbody tr th:only-of-type {\n        vertical-align: middle;\n    }\n\n    .dataframe tbody tr th {\n        vertical-align: top;\n    }\n\n    .dataframe thead th {\n        text-align: right;\n    }\n</style>\n<table border=\"1\" class=\"dataframe\">\n  <thead>\n    <tr style=\"text-align: right;\">\n      <th></th>\n      <th>BR</th>\n      <th>Country</th>\n      <th>Clicks</th>\n      <th>Day</th>\n    </tr>\n  </thead>\n  <tbody>\n    <tr>\n      <th>3</th>\n      <td>35</td>\n      <td>USA</td>\n      <td>12</td>\n      <td>Friday</td>\n    </tr>\n    <tr>\n      <th>4</th>\n      <td>14</td>\n      <td>Canada</td>\n      <td>35</td>\n      <td>Saturday</td>\n    </tr>\n    <tr>\n      <th>5</th>\n      <td>15</td>\n      <td>India</td>\n      <td>32</td>\n      <td>Sunday</td>\n    </tr>\n    <tr>\n      <th>6</th>\n      <td>20</td>\n      <td>India</td>\n      <td>37</td>\n      <td>Monday</td>\n    </tr>\n    <tr>\n      <th>7</th>\n      <td>16</td>\n      <td>USA</td>\n      <td>40</td>\n      <td>Tuesday</td>\n    </tr>\n    <tr>\n      <th>8</th>\n      <td>27</td>\n      <td>USA</td>\n      <td>52</td>\n      <td>Wednesday</td>\n    </tr>\n    <tr>\n      <th>9</th>\n      <td>32</td>\n      <td>Australia</td>\n      <td>57</td>\n      <td>Thursday</td>\n    </tr>\n  </tbody>\n</table>\n</div>"
     },
     "execution_count": 17,
     "metadata": {},
     "output_type": "execute_result"
    }
   ],
   "source": [
    "df6 = df1.loc[3:, \"BR\":\"Day\"]\n",
    "df6"
   ],
   "metadata": {
    "collapsed": false
   }
  },
  {
   "cell_type": "code",
   "execution_count": 18,
   "outputs": [
    {
     "data": {
      "text/plain": "12"
     },
     "execution_count": 18,
     "metadata": {},
     "output_type": "execute_result"
    }
   ],
   "source": [
    "df7 = df1.loc[3, \"Clicks\"]\n",
    "df7"
   ],
   "metadata": {
    "collapsed": false
   }
  },
  {
   "cell_type": "code",
   "execution_count": 19,
   "outputs": [
    {
     "data": {
      "text/plain": "0    1500\n1     700\n2     900\n3     400\n4     500\n5     700\n6     600\n7     700\n8    1200\n9    1400\nName: Visitors, dtype: int64"
     },
     "execution_count": 19,
     "metadata": {},
     "output_type": "execute_result"
    }
   ],
   "source": [
    "df8 =  df1.loc[:, \"Visitors\"]\n",
    "df8"
   ],
   "metadata": {
    "collapsed": false
   }
  },
  {
   "cell_type": "code",
   "execution_count": 20,
   "outputs": [
    {
     "data": {
      "text/plain": "   Visitors  BR Country\n6       600  20   India\n7       700  16     USA\n8      1200  27     USA",
      "text/html": "<div>\n<style scoped>\n    .dataframe tbody tr th:only-of-type {\n        vertical-align: middle;\n    }\n\n    .dataframe tbody tr th {\n        vertical-align: top;\n    }\n\n    .dataframe thead th {\n        text-align: right;\n    }\n</style>\n<table border=\"1\" class=\"dataframe\">\n  <thead>\n    <tr style=\"text-align: right;\">\n      <th></th>\n      <th>Visitors</th>\n      <th>BR</th>\n      <th>Country</th>\n    </tr>\n  </thead>\n  <tbody>\n    <tr>\n      <th>6</th>\n      <td>600</td>\n      <td>20</td>\n      <td>India</td>\n    </tr>\n    <tr>\n      <th>7</th>\n      <td>700</td>\n      <td>16</td>\n      <td>USA</td>\n    </tr>\n    <tr>\n      <th>8</th>\n      <td>1200</td>\n      <td>27</td>\n      <td>USA</td>\n    </tr>\n  </tbody>\n</table>\n</div>"
     },
     "execution_count": 20,
     "metadata": {},
     "output_type": "execute_result"
    }
   ],
   "source": [
    "df1.iloc[6:9, 1:4]"
   ],
   "metadata": {
    "collapsed": false
   }
  },
  {
   "cell_type": "code",
   "execution_count": 22,
   "outputs": [
    {
     "data": {
      "text/plain": "   Date  Visitors  BR    Country  Clicks        Day\n0     1      1500  20        USA      20    Tuesday\n1     2       700  25         UK      35  Wednesday\n2     3       900  15      India      37   Thursday\n3     4       400  35        USA      12     Friday\n4     5       500  14     Canada      35   Saturday\n5     6       700  15      India      32     Sunday\n6     7       600  20      India      37     Monday\n7     8       700  16        USA      40    Tuesday\n8     9      1200  27        USA      52  Wednesday\n9    10      1400  32  Australia      57   Thursday",
      "text/html": "<div>\n<style scoped>\n    .dataframe tbody tr th:only-of-type {\n        vertical-align: middle;\n    }\n\n    .dataframe tbody tr th {\n        vertical-align: top;\n    }\n\n    .dataframe thead th {\n        text-align: right;\n    }\n</style>\n<table border=\"1\" class=\"dataframe\">\n  <thead>\n    <tr style=\"text-align: right;\">\n      <th></th>\n      <th>Date</th>\n      <th>Visitors</th>\n      <th>BR</th>\n      <th>Country</th>\n      <th>Clicks</th>\n      <th>Day</th>\n    </tr>\n  </thead>\n  <tbody>\n    <tr>\n      <th>0</th>\n      <td>1</td>\n      <td>1500</td>\n      <td>20</td>\n      <td>USA</td>\n      <td>20</td>\n      <td>Tuesday</td>\n    </tr>\n    <tr>\n      <th>1</th>\n      <td>2</td>\n      <td>700</td>\n      <td>25</td>\n      <td>UK</td>\n      <td>35</td>\n      <td>Wednesday</td>\n    </tr>\n    <tr>\n      <th>2</th>\n      <td>3</td>\n      <td>900</td>\n      <td>15</td>\n      <td>India</td>\n      <td>37</td>\n      <td>Thursday</td>\n    </tr>\n    <tr>\n      <th>3</th>\n      <td>4</td>\n      <td>400</td>\n      <td>35</td>\n      <td>USA</td>\n      <td>12</td>\n      <td>Friday</td>\n    </tr>\n    <tr>\n      <th>4</th>\n      <td>5</td>\n      <td>500</td>\n      <td>14</td>\n      <td>Canada</td>\n      <td>35</td>\n      <td>Saturday</td>\n    </tr>\n    <tr>\n      <th>5</th>\n      <td>6</td>\n      <td>700</td>\n      <td>15</td>\n      <td>India</td>\n      <td>32</td>\n      <td>Sunday</td>\n    </tr>\n    <tr>\n      <th>6</th>\n      <td>7</td>\n      <td>600</td>\n      <td>20</td>\n      <td>India</td>\n      <td>37</td>\n      <td>Monday</td>\n    </tr>\n    <tr>\n      <th>7</th>\n      <td>8</td>\n      <td>700</td>\n      <td>16</td>\n      <td>USA</td>\n      <td>40</td>\n      <td>Tuesday</td>\n    </tr>\n    <tr>\n      <th>8</th>\n      <td>9</td>\n      <td>1200</td>\n      <td>27</td>\n      <td>USA</td>\n      <td>52</td>\n      <td>Wednesday</td>\n    </tr>\n    <tr>\n      <th>9</th>\n      <td>10</td>\n      <td>1400</td>\n      <td>32</td>\n      <td>Australia</td>\n      <td>57</td>\n      <td>Thursday</td>\n    </tr>\n  </tbody>\n</table>\n</div>"
     },
     "execution_count": 22,
     "metadata": {},
     "output_type": "execute_result"
    }
   ],
   "source": [
    "df1"
   ],
   "metadata": {
    "collapsed": false
   }
  },
  {
   "cell_type": "code",
   "execution_count": 25,
   "outputs": [
    {
     "data": {
      "text/plain": "'India'"
     },
     "execution_count": 25,
     "metadata": {},
     "output_type": "execute_result"
    }
   ],
   "source": [
    "df1.iloc[5, 3]"
   ],
   "metadata": {
    "collapsed": false
   }
  },
  {
   "cell_type": "code",
   "execution_count": 26,
   "outputs": [
    {
     "data": {
      "text/plain": "'India'"
     },
     "execution_count": 26,
     "metadata": {},
     "output_type": "execute_result"
    }
   ],
   "source": [
    "df1.loc[5, \"Country\"]"
   ],
   "metadata": {
    "collapsed": false
   }
  },
  {
   "cell_type": "code",
   "execution_count": 28,
   "outputs": [
    {
     "data": {
      "text/plain": "   Date  Visitors  BR    Country  Clicks\n0     1      1500  20        USA      20\n1     2       700  25         UK      35\n2     3       900  15      India      37\n3     4       400  35        USA      12\n4     5       500  14     Canada      35\n5     6       700  15      India      32\n6     7       600  20      India      37\n7     8       700  16        USA      40\n8     9      1200  27        USA      52\n9    10      1400  32  Australia      57",
      "text/html": "<div>\n<style scoped>\n    .dataframe tbody tr th:only-of-type {\n        vertical-align: middle;\n    }\n\n    .dataframe tbody tr th {\n        vertical-align: top;\n    }\n\n    .dataframe thead th {\n        text-align: right;\n    }\n</style>\n<table border=\"1\" class=\"dataframe\">\n  <thead>\n    <tr style=\"text-align: right;\">\n      <th></th>\n      <th>Date</th>\n      <th>Visitors</th>\n      <th>BR</th>\n      <th>Country</th>\n      <th>Clicks</th>\n    </tr>\n  </thead>\n  <tbody>\n    <tr>\n      <th>0</th>\n      <td>1</td>\n      <td>1500</td>\n      <td>20</td>\n      <td>USA</td>\n      <td>20</td>\n    </tr>\n    <tr>\n      <th>1</th>\n      <td>2</td>\n      <td>700</td>\n      <td>25</td>\n      <td>UK</td>\n      <td>35</td>\n    </tr>\n    <tr>\n      <th>2</th>\n      <td>3</td>\n      <td>900</td>\n      <td>15</td>\n      <td>India</td>\n      <td>37</td>\n    </tr>\n    <tr>\n      <th>3</th>\n      <td>4</td>\n      <td>400</td>\n      <td>35</td>\n      <td>USA</td>\n      <td>12</td>\n    </tr>\n    <tr>\n      <th>4</th>\n      <td>5</td>\n      <td>500</td>\n      <td>14</td>\n      <td>Canada</td>\n      <td>35</td>\n    </tr>\n    <tr>\n      <th>5</th>\n      <td>6</td>\n      <td>700</td>\n      <td>15</td>\n      <td>India</td>\n      <td>32</td>\n    </tr>\n    <tr>\n      <th>6</th>\n      <td>7</td>\n      <td>600</td>\n      <td>20</td>\n      <td>India</td>\n      <td>37</td>\n    </tr>\n    <tr>\n      <th>7</th>\n      <td>8</td>\n      <td>700</td>\n      <td>16</td>\n      <td>USA</td>\n      <td>40</td>\n    </tr>\n    <tr>\n      <th>8</th>\n      <td>9</td>\n      <td>1200</td>\n      <td>27</td>\n      <td>USA</td>\n      <td>52</td>\n    </tr>\n    <tr>\n      <th>9</th>\n      <td>10</td>\n      <td>1400</td>\n      <td>32</td>\n      <td>Australia</td>\n      <td>57</td>\n    </tr>\n  </tbody>\n</table>\n</div>"
     },
     "execution_count": 28,
     "metadata": {},
     "output_type": "execute_result"
    }
   ],
   "source": [
    "df1.drop(\"Day\", axis=1)"
   ],
   "metadata": {
    "collapsed": false
   }
  },
  {
   "cell_type": "code",
   "execution_count": 29,
   "outputs": [
    {
     "data": {
      "text/plain": "   Date  Visitors  BR    Country  Clicks        Day\n0     1      1500  20        USA      20    Tuesday\n1     2       700  25         UK      35  Wednesday\n2     3       900  15      India      37   Thursday\n3     4       400  35        USA      12     Friday\n4     5       500  14     Canada      35   Saturday\n5     6       700  15      India      32     Sunday\n6     7       600  20      India      37     Monday\n7     8       700  16        USA      40    Tuesday\n8     9      1200  27        USA      52  Wednesday\n9    10      1400  32  Australia      57   Thursday",
      "text/html": "<div>\n<style scoped>\n    .dataframe tbody tr th:only-of-type {\n        vertical-align: middle;\n    }\n\n    .dataframe tbody tr th {\n        vertical-align: top;\n    }\n\n    .dataframe thead th {\n        text-align: right;\n    }\n</style>\n<table border=\"1\" class=\"dataframe\">\n  <thead>\n    <tr style=\"text-align: right;\">\n      <th></th>\n      <th>Date</th>\n      <th>Visitors</th>\n      <th>BR</th>\n      <th>Country</th>\n      <th>Clicks</th>\n      <th>Day</th>\n    </tr>\n  </thead>\n  <tbody>\n    <tr>\n      <th>0</th>\n      <td>1</td>\n      <td>1500</td>\n      <td>20</td>\n      <td>USA</td>\n      <td>20</td>\n      <td>Tuesday</td>\n    </tr>\n    <tr>\n      <th>1</th>\n      <td>2</td>\n      <td>700</td>\n      <td>25</td>\n      <td>UK</td>\n      <td>35</td>\n      <td>Wednesday</td>\n    </tr>\n    <tr>\n      <th>2</th>\n      <td>3</td>\n      <td>900</td>\n      <td>15</td>\n      <td>India</td>\n      <td>37</td>\n      <td>Thursday</td>\n    </tr>\n    <tr>\n      <th>3</th>\n      <td>4</td>\n      <td>400</td>\n      <td>35</td>\n      <td>USA</td>\n      <td>12</td>\n      <td>Friday</td>\n    </tr>\n    <tr>\n      <th>4</th>\n      <td>5</td>\n      <td>500</td>\n      <td>14</td>\n      <td>Canada</td>\n      <td>35</td>\n      <td>Saturday</td>\n    </tr>\n    <tr>\n      <th>5</th>\n      <td>6</td>\n      <td>700</td>\n      <td>15</td>\n      <td>India</td>\n      <td>32</td>\n      <td>Sunday</td>\n    </tr>\n    <tr>\n      <th>6</th>\n      <td>7</td>\n      <td>600</td>\n      <td>20</td>\n      <td>India</td>\n      <td>37</td>\n      <td>Monday</td>\n    </tr>\n    <tr>\n      <th>7</th>\n      <td>8</td>\n      <td>700</td>\n      <td>16</td>\n      <td>USA</td>\n      <td>40</td>\n      <td>Tuesday</td>\n    </tr>\n    <tr>\n      <th>8</th>\n      <td>9</td>\n      <td>1200</td>\n      <td>27</td>\n      <td>USA</td>\n      <td>52</td>\n      <td>Wednesday</td>\n    </tr>\n    <tr>\n      <th>9</th>\n      <td>10</td>\n      <td>1400</td>\n      <td>32</td>\n      <td>Australia</td>\n      <td>57</td>\n      <td>Thursday</td>\n    </tr>\n  </tbody>\n</table>\n</div>"
     },
     "execution_count": 29,
     "metadata": {},
     "output_type": "execute_result"
    }
   ],
   "source": [
    "df1"
   ],
   "metadata": {
    "collapsed": false
   }
  },
  {
   "cell_type": "code",
   "execution_count": 30,
   "outputs": [
    {
     "data": {
      "text/plain": "   Date  Visitors  BR    Country  Clicks        Day\n0     1      1500  20        USA      20    Tuesday\n1     2       700  25         UK      35  Wednesday\n2     3       900  15      India      37   Thursday\n3     4       400  35        USA      12     Friday\n4     5       500  14     Canada      35   Saturday\n6     7       600  20      India      37     Monday\n7     8       700  16        USA      40    Tuesday\n8     9      1200  27        USA      52  Wednesday\n9    10      1400  32  Australia      57   Thursday",
      "text/html": "<div>\n<style scoped>\n    .dataframe tbody tr th:only-of-type {\n        vertical-align: middle;\n    }\n\n    .dataframe tbody tr th {\n        vertical-align: top;\n    }\n\n    .dataframe thead th {\n        text-align: right;\n    }\n</style>\n<table border=\"1\" class=\"dataframe\">\n  <thead>\n    <tr style=\"text-align: right;\">\n      <th></th>\n      <th>Date</th>\n      <th>Visitors</th>\n      <th>BR</th>\n      <th>Country</th>\n      <th>Clicks</th>\n      <th>Day</th>\n    </tr>\n  </thead>\n  <tbody>\n    <tr>\n      <th>0</th>\n      <td>1</td>\n      <td>1500</td>\n      <td>20</td>\n      <td>USA</td>\n      <td>20</td>\n      <td>Tuesday</td>\n    </tr>\n    <tr>\n      <th>1</th>\n      <td>2</td>\n      <td>700</td>\n      <td>25</td>\n      <td>UK</td>\n      <td>35</td>\n      <td>Wednesday</td>\n    </tr>\n    <tr>\n      <th>2</th>\n      <td>3</td>\n      <td>900</td>\n      <td>15</td>\n      <td>India</td>\n      <td>37</td>\n      <td>Thursday</td>\n    </tr>\n    <tr>\n      <th>3</th>\n      <td>4</td>\n      <td>400</td>\n      <td>35</td>\n      <td>USA</td>\n      <td>12</td>\n      <td>Friday</td>\n    </tr>\n    <tr>\n      <th>4</th>\n      <td>5</td>\n      <td>500</td>\n      <td>14</td>\n      <td>Canada</td>\n      <td>35</td>\n      <td>Saturday</td>\n    </tr>\n    <tr>\n      <th>6</th>\n      <td>7</td>\n      <td>600</td>\n      <td>20</td>\n      <td>India</td>\n      <td>37</td>\n      <td>Monday</td>\n    </tr>\n    <tr>\n      <th>7</th>\n      <td>8</td>\n      <td>700</td>\n      <td>16</td>\n      <td>USA</td>\n      <td>40</td>\n      <td>Tuesday</td>\n    </tr>\n    <tr>\n      <th>8</th>\n      <td>9</td>\n      <td>1200</td>\n      <td>27</td>\n      <td>USA</td>\n      <td>52</td>\n      <td>Wednesday</td>\n    </tr>\n    <tr>\n      <th>9</th>\n      <td>10</td>\n      <td>1400</td>\n      <td>32</td>\n      <td>Australia</td>\n      <td>57</td>\n      <td>Thursday</td>\n    </tr>\n  </tbody>\n</table>\n</div>"
     },
     "execution_count": 30,
     "metadata": {},
     "output_type": "execute_result"
    }
   ],
   "source": [
    "df1.drop(5, axis=0)"
   ],
   "metadata": {
    "collapsed": false
   }
  },
  {
   "cell_type": "code",
   "execution_count": 33,
   "outputs": [
    {
     "data": {
      "text/plain": "   Visitors  BR    Country  Clicks        Day\n0      1500  20        USA      20    Tuesday\n1       700  25         UK      35  Wednesday\n2       900  15      India      37   Thursday\n3       400  35        USA      12     Friday\n4       500  14     Canada      35   Saturday\n5       700  15      India      32     Sunday\n6       600  20      India      37     Monday\n7       700  16        USA      40    Tuesday\n8      1200  27        USA      52  Wednesday\n9      1400  32  Australia      57   Thursday",
      "text/html": "<div>\n<style scoped>\n    .dataframe tbody tr th:only-of-type {\n        vertical-align: middle;\n    }\n\n    .dataframe tbody tr th {\n        vertical-align: top;\n    }\n\n    .dataframe thead th {\n        text-align: right;\n    }\n</style>\n<table border=\"1\" class=\"dataframe\">\n  <thead>\n    <tr style=\"text-align: right;\">\n      <th></th>\n      <th>Visitors</th>\n      <th>BR</th>\n      <th>Country</th>\n      <th>Clicks</th>\n      <th>Day</th>\n    </tr>\n  </thead>\n  <tbody>\n    <tr>\n      <th>0</th>\n      <td>1500</td>\n      <td>20</td>\n      <td>USA</td>\n      <td>20</td>\n      <td>Tuesday</td>\n    </tr>\n    <tr>\n      <th>1</th>\n      <td>700</td>\n      <td>25</td>\n      <td>UK</td>\n      <td>35</td>\n      <td>Wednesday</td>\n    </tr>\n    <tr>\n      <th>2</th>\n      <td>900</td>\n      <td>15</td>\n      <td>India</td>\n      <td>37</td>\n      <td>Thursday</td>\n    </tr>\n    <tr>\n      <th>3</th>\n      <td>400</td>\n      <td>35</td>\n      <td>USA</td>\n      <td>12</td>\n      <td>Friday</td>\n    </tr>\n    <tr>\n      <th>4</th>\n      <td>500</td>\n      <td>14</td>\n      <td>Canada</td>\n      <td>35</td>\n      <td>Saturday</td>\n    </tr>\n    <tr>\n      <th>5</th>\n      <td>700</td>\n      <td>15</td>\n      <td>India</td>\n      <td>32</td>\n      <td>Sunday</td>\n    </tr>\n    <tr>\n      <th>6</th>\n      <td>600</td>\n      <td>20</td>\n      <td>India</td>\n      <td>37</td>\n      <td>Monday</td>\n    </tr>\n    <tr>\n      <th>7</th>\n      <td>700</td>\n      <td>16</td>\n      <td>USA</td>\n      <td>40</td>\n      <td>Tuesday</td>\n    </tr>\n    <tr>\n      <th>8</th>\n      <td>1200</td>\n      <td>27</td>\n      <td>USA</td>\n      <td>52</td>\n      <td>Wednesday</td>\n    </tr>\n    <tr>\n      <th>9</th>\n      <td>1400</td>\n      <td>32</td>\n      <td>Australia</td>\n      <td>57</td>\n      <td>Thursday</td>\n    </tr>\n  </tbody>\n</table>\n</div>"
     },
     "execution_count": 33,
     "metadata": {},
     "output_type": "execute_result"
    }
   ],
   "source": [
    "df1.drop(df1.columns[0], axis=1)"
   ],
   "metadata": {
    "collapsed": false
   }
  },
  {
   "cell_type": "code",
   "execution_count": 34,
   "outputs": [
    {
     "data": {
      "text/plain": "'Day'"
     },
     "execution_count": 34,
     "metadata": {},
     "output_type": "execute_result"
    }
   ],
   "source": [
    "df1.columns[5]"
   ],
   "metadata": {
    "collapsed": false
   }
  },
  {
   "cell_type": "code",
   "execution_count": 38,
   "outputs": [
    {
     "data": {
      "text/plain": "   Date  Visitors  BR    Country  Clicks        Day\n0     1      1500  20        USA      20    Tuesday\n2     3       900  15      India      37   Thursday\n3     4       400  35        USA      12     Friday\n4     5       500  14     Canada      35   Saturday\n5     6       700  15      India      32     Sunday\n6     7       600  20      India      37     Monday\n7     8       700  16        USA      40    Tuesday\n8     9      1200  27        USA      52  Wednesday\n9    10      1400  32  Australia      57   Thursday",
      "text/html": "<div>\n<style scoped>\n    .dataframe tbody tr th:only-of-type {\n        vertical-align: middle;\n    }\n\n    .dataframe tbody tr th {\n        vertical-align: top;\n    }\n\n    .dataframe thead th {\n        text-align: right;\n    }\n</style>\n<table border=\"1\" class=\"dataframe\">\n  <thead>\n    <tr style=\"text-align: right;\">\n      <th></th>\n      <th>Date</th>\n      <th>Visitors</th>\n      <th>BR</th>\n      <th>Country</th>\n      <th>Clicks</th>\n      <th>Day</th>\n    </tr>\n  </thead>\n  <tbody>\n    <tr>\n      <th>0</th>\n      <td>1</td>\n      <td>1500</td>\n      <td>20</td>\n      <td>USA</td>\n      <td>20</td>\n      <td>Tuesday</td>\n    </tr>\n    <tr>\n      <th>2</th>\n      <td>3</td>\n      <td>900</td>\n      <td>15</td>\n      <td>India</td>\n      <td>37</td>\n      <td>Thursday</td>\n    </tr>\n    <tr>\n      <th>3</th>\n      <td>4</td>\n      <td>400</td>\n      <td>35</td>\n      <td>USA</td>\n      <td>12</td>\n      <td>Friday</td>\n    </tr>\n    <tr>\n      <th>4</th>\n      <td>5</td>\n      <td>500</td>\n      <td>14</td>\n      <td>Canada</td>\n      <td>35</td>\n      <td>Saturday</td>\n    </tr>\n    <tr>\n      <th>5</th>\n      <td>6</td>\n      <td>700</td>\n      <td>15</td>\n      <td>India</td>\n      <td>32</td>\n      <td>Sunday</td>\n    </tr>\n    <tr>\n      <th>6</th>\n      <td>7</td>\n      <td>600</td>\n      <td>20</td>\n      <td>India</td>\n      <td>37</td>\n      <td>Monday</td>\n    </tr>\n    <tr>\n      <th>7</th>\n      <td>8</td>\n      <td>700</td>\n      <td>16</td>\n      <td>USA</td>\n      <td>40</td>\n      <td>Tuesday</td>\n    </tr>\n    <tr>\n      <th>8</th>\n      <td>9</td>\n      <td>1200</td>\n      <td>27</td>\n      <td>USA</td>\n      <td>52</td>\n      <td>Wednesday</td>\n    </tr>\n    <tr>\n      <th>9</th>\n      <td>10</td>\n      <td>1400</td>\n      <td>32</td>\n      <td>Australia</td>\n      <td>57</td>\n      <td>Thursday</td>\n    </tr>\n  </tbody>\n</table>\n</div>"
     },
     "execution_count": 38,
     "metadata": {},
     "output_type": "execute_result"
    }
   ],
   "source": [
    "df1.drop(df1.index[1], axis=0)"
   ],
   "metadata": {
    "collapsed": false
   }
  },
  {
   "cell_type": "code",
   "execution_count": 41,
   "outputs": [
    {
     "data": {
      "text/plain": "   Date  Visitors  BR    Country  Clicks        Day Status\n0     1      1500  20        USA      20    Tuesday    New\n1     2       700  25         UK      35  Wednesday    Old\n2     3       900  15      India      37   Thursday    New\n3     4       400  35        USA      12     Friday    New\n4     5       500  14     Canada      35   Saturday    Old\n5     6       700  15      India      32     Sunday    New\n6     7       600  20      India      37     Monday    Old\n7     8       700  16        USA      40    Tuesday    New\n8     9      1200  27        USA      52  Wednesday    New\n9    10      1400  32  Australia      57   Thursday    Old",
      "text/html": "<div>\n<style scoped>\n    .dataframe tbody tr th:only-of-type {\n        vertical-align: middle;\n    }\n\n    .dataframe tbody tr th {\n        vertical-align: top;\n    }\n\n    .dataframe thead th {\n        text-align: right;\n    }\n</style>\n<table border=\"1\" class=\"dataframe\">\n  <thead>\n    <tr style=\"text-align: right;\">\n      <th></th>\n      <th>Date</th>\n      <th>Visitors</th>\n      <th>BR</th>\n      <th>Country</th>\n      <th>Clicks</th>\n      <th>Day</th>\n      <th>Status</th>\n    </tr>\n  </thead>\n  <tbody>\n    <tr>\n      <th>0</th>\n      <td>1</td>\n      <td>1500</td>\n      <td>20</td>\n      <td>USA</td>\n      <td>20</td>\n      <td>Tuesday</td>\n      <td>New</td>\n    </tr>\n    <tr>\n      <th>1</th>\n      <td>2</td>\n      <td>700</td>\n      <td>25</td>\n      <td>UK</td>\n      <td>35</td>\n      <td>Wednesday</td>\n      <td>Old</td>\n    </tr>\n    <tr>\n      <th>2</th>\n      <td>3</td>\n      <td>900</td>\n      <td>15</td>\n      <td>India</td>\n      <td>37</td>\n      <td>Thursday</td>\n      <td>New</td>\n    </tr>\n    <tr>\n      <th>3</th>\n      <td>4</td>\n      <td>400</td>\n      <td>35</td>\n      <td>USA</td>\n      <td>12</td>\n      <td>Friday</td>\n      <td>New</td>\n    </tr>\n    <tr>\n      <th>4</th>\n      <td>5</td>\n      <td>500</td>\n      <td>14</td>\n      <td>Canada</td>\n      <td>35</td>\n      <td>Saturday</td>\n      <td>Old</td>\n    </tr>\n    <tr>\n      <th>5</th>\n      <td>6</td>\n      <td>700</td>\n      <td>15</td>\n      <td>India</td>\n      <td>32</td>\n      <td>Sunday</td>\n      <td>New</td>\n    </tr>\n    <tr>\n      <th>6</th>\n      <td>7</td>\n      <td>600</td>\n      <td>20</td>\n      <td>India</td>\n      <td>37</td>\n      <td>Monday</td>\n      <td>Old</td>\n    </tr>\n    <tr>\n      <th>7</th>\n      <td>8</td>\n      <td>700</td>\n      <td>16</td>\n      <td>USA</td>\n      <td>40</td>\n      <td>Tuesday</td>\n      <td>New</td>\n    </tr>\n    <tr>\n      <th>8</th>\n      <td>9</td>\n      <td>1200</td>\n      <td>27</td>\n      <td>USA</td>\n      <td>52</td>\n      <td>Wednesday</td>\n      <td>New</td>\n    </tr>\n    <tr>\n      <th>9</th>\n      <td>10</td>\n      <td>1400</td>\n      <td>32</td>\n      <td>Australia</td>\n      <td>57</td>\n      <td>Thursday</td>\n      <td>Old</td>\n    </tr>\n  </tbody>\n</table>\n</div>"
     },
     "execution_count": 41,
     "metadata": {},
     "output_type": "execute_result"
    }
   ],
   "source": [
    "df1[\"Status\"] = [\"New\", \"Old\", \"New\", \"New\", \"Old\", \"New\", \"Old\", \"New\", \"New\", \"Old\"]\n",
    "df1"
   ],
   "metadata": {
    "collapsed": false
   }
  },
  {
   "cell_type": "code",
   "execution_count": 45,
   "outputs": [
    {
     "data": {
      "text/plain": "   Date  Visitors  BR    Country  Clicks        Day Status check\n0     1      1500  20        USA      20    Tuesday    New  true\n1     2       700  25         UK      35  Wednesday    Old  true\n2     3       900  15      India      37   Thursday    New  true\n3     4       400  35        USA      12     Friday    New  true\n4     5       500  14     Canada      35   Saturday    Old  true\n5     6       700  15      India      32     Sunday    New  true\n6     7       600  20      India      37     Monday    Old  true\n7     8       700  16        USA      40    Tuesday    New  true\n8     9      1200  27        USA      52  Wednesday    New  true\n9    10      1400  32  Australia      57   Thursday    Old  true",
      "text/html": "<div>\n<style scoped>\n    .dataframe tbody tr th:only-of-type {\n        vertical-align: middle;\n    }\n\n    .dataframe tbody tr th {\n        vertical-align: top;\n    }\n\n    .dataframe thead th {\n        text-align: right;\n    }\n</style>\n<table border=\"1\" class=\"dataframe\">\n  <thead>\n    <tr style=\"text-align: right;\">\n      <th></th>\n      <th>Date</th>\n      <th>Visitors</th>\n      <th>BR</th>\n      <th>Country</th>\n      <th>Clicks</th>\n      <th>Day</th>\n      <th>Status</th>\n      <th>check</th>\n    </tr>\n  </thead>\n  <tbody>\n    <tr>\n      <th>0</th>\n      <td>1</td>\n      <td>1500</td>\n      <td>20</td>\n      <td>USA</td>\n      <td>20</td>\n      <td>Tuesday</td>\n      <td>New</td>\n      <td>true</td>\n    </tr>\n    <tr>\n      <th>1</th>\n      <td>2</td>\n      <td>700</td>\n      <td>25</td>\n      <td>UK</td>\n      <td>35</td>\n      <td>Wednesday</td>\n      <td>Old</td>\n      <td>true</td>\n    </tr>\n    <tr>\n      <th>2</th>\n      <td>3</td>\n      <td>900</td>\n      <td>15</td>\n      <td>India</td>\n      <td>37</td>\n      <td>Thursday</td>\n      <td>New</td>\n      <td>true</td>\n    </tr>\n    <tr>\n      <th>3</th>\n      <td>4</td>\n      <td>400</td>\n      <td>35</td>\n      <td>USA</td>\n      <td>12</td>\n      <td>Friday</td>\n      <td>New</td>\n      <td>true</td>\n    </tr>\n    <tr>\n      <th>4</th>\n      <td>5</td>\n      <td>500</td>\n      <td>14</td>\n      <td>Canada</td>\n      <td>35</td>\n      <td>Saturday</td>\n      <td>Old</td>\n      <td>true</td>\n    </tr>\n    <tr>\n      <th>5</th>\n      <td>6</td>\n      <td>700</td>\n      <td>15</td>\n      <td>India</td>\n      <td>32</td>\n      <td>Sunday</td>\n      <td>New</td>\n      <td>true</td>\n    </tr>\n    <tr>\n      <th>6</th>\n      <td>7</td>\n      <td>600</td>\n      <td>20</td>\n      <td>India</td>\n      <td>37</td>\n      <td>Monday</td>\n      <td>Old</td>\n      <td>true</td>\n    </tr>\n    <tr>\n      <th>7</th>\n      <td>8</td>\n      <td>700</td>\n      <td>16</td>\n      <td>USA</td>\n      <td>40</td>\n      <td>Tuesday</td>\n      <td>New</td>\n      <td>true</td>\n    </tr>\n    <tr>\n      <th>8</th>\n      <td>9</td>\n      <td>1200</td>\n      <td>27</td>\n      <td>USA</td>\n      <td>52</td>\n      <td>Wednesday</td>\n      <td>New</td>\n      <td>true</td>\n    </tr>\n    <tr>\n      <th>9</th>\n      <td>10</td>\n      <td>1400</td>\n      <td>32</td>\n      <td>Australia</td>\n      <td>57</td>\n      <td>Thursday</td>\n      <td>Old</td>\n      <td>true</td>\n    </tr>\n  </tbody>\n</table>\n</div>"
     },
     "execution_count": 45,
     "metadata": {},
     "output_type": "execute_result"
    }
   ],
   "source": [
    "df1[\"check\"] = [\"true\"] * df1.shape[0]\n",
    "df1"
   ],
   "metadata": {
    "collapsed": false
   }
  },
  {
   "cell_type": "code",
   "execution_count": 44,
   "outputs": [
    {
     "data": {
      "text/plain": "10"
     },
     "execution_count": 44,
     "metadata": {},
     "output_type": "execute_result"
    }
   ],
   "source": [
    "df1.shape[0]"
   ],
   "metadata": {
    "collapsed": false
   }
  },
  {
   "cell_type": "code",
   "execution_count": 50,
   "outputs": [
    {
     "data": {
      "text/plain": "   Date  Visitors  BR    Country  Clicks                       Day Status   \n0     1      1500  20        USA      20    Tuesday June June June    New  \\\n1     2       700  25         UK      35  Wednesday June June June    Old   \n2     3       900  15      India      37   Thursday June June June    New   \n3     4       400  35        USA      12     Friday June June June    New   \n4     5       500  14     Canada      35   Saturday June June June    Old   \n5     6       700  15      India      32     Sunday June June June    New   \n6     7       600  20      India      37     Monday June June June    Old   \n7     8       700  16        USA      40    Tuesday June June June    New   \n8     9      1200  27        USA      52  Wednesday June June June    New   \n9    10      1400  32  Australia      57   Thursday June June June    Old   \n\n  check  \n0  true  \n1  true  \n2  true  \n3  true  \n4  true  \n5  true  \n6  true  \n7  true  \n8  true  \n9  true  ",
      "text/html": "<div>\n<style scoped>\n    .dataframe tbody tr th:only-of-type {\n        vertical-align: middle;\n    }\n\n    .dataframe tbody tr th {\n        vertical-align: top;\n    }\n\n    .dataframe thead th {\n        text-align: right;\n    }\n</style>\n<table border=\"1\" class=\"dataframe\">\n  <thead>\n    <tr style=\"text-align: right;\">\n      <th></th>\n      <th>Date</th>\n      <th>Visitors</th>\n      <th>BR</th>\n      <th>Country</th>\n      <th>Clicks</th>\n      <th>Day</th>\n      <th>Status</th>\n      <th>check</th>\n    </tr>\n  </thead>\n  <tbody>\n    <tr>\n      <th>0</th>\n      <td>1</td>\n      <td>1500</td>\n      <td>20</td>\n      <td>USA</td>\n      <td>20</td>\n      <td>Tuesday June June June</td>\n      <td>New</td>\n      <td>true</td>\n    </tr>\n    <tr>\n      <th>1</th>\n      <td>2</td>\n      <td>700</td>\n      <td>25</td>\n      <td>UK</td>\n      <td>35</td>\n      <td>Wednesday June June June</td>\n      <td>Old</td>\n      <td>true</td>\n    </tr>\n    <tr>\n      <th>2</th>\n      <td>3</td>\n      <td>900</td>\n      <td>15</td>\n      <td>India</td>\n      <td>37</td>\n      <td>Thursday June June June</td>\n      <td>New</td>\n      <td>true</td>\n    </tr>\n    <tr>\n      <th>3</th>\n      <td>4</td>\n      <td>400</td>\n      <td>35</td>\n      <td>USA</td>\n      <td>12</td>\n      <td>Friday June June June</td>\n      <td>New</td>\n      <td>true</td>\n    </tr>\n    <tr>\n      <th>4</th>\n      <td>5</td>\n      <td>500</td>\n      <td>14</td>\n      <td>Canada</td>\n      <td>35</td>\n      <td>Saturday June June June</td>\n      <td>Old</td>\n      <td>true</td>\n    </tr>\n    <tr>\n      <th>5</th>\n      <td>6</td>\n      <td>700</td>\n      <td>15</td>\n      <td>India</td>\n      <td>32</td>\n      <td>Sunday June June June</td>\n      <td>New</td>\n      <td>true</td>\n    </tr>\n    <tr>\n      <th>6</th>\n      <td>7</td>\n      <td>600</td>\n      <td>20</td>\n      <td>India</td>\n      <td>37</td>\n      <td>Monday June June June</td>\n      <td>Old</td>\n      <td>true</td>\n    </tr>\n    <tr>\n      <th>7</th>\n      <td>8</td>\n      <td>700</td>\n      <td>16</td>\n      <td>USA</td>\n      <td>40</td>\n      <td>Tuesday June June June</td>\n      <td>New</td>\n      <td>true</td>\n    </tr>\n    <tr>\n      <th>8</th>\n      <td>9</td>\n      <td>1200</td>\n      <td>27</td>\n      <td>USA</td>\n      <td>52</td>\n      <td>Wednesday June June June</td>\n      <td>New</td>\n      <td>true</td>\n    </tr>\n    <tr>\n      <th>9</th>\n      <td>10</td>\n      <td>1400</td>\n      <td>32</td>\n      <td>Australia</td>\n      <td>57</td>\n      <td>Thursday June June June</td>\n      <td>Old</td>\n      <td>true</td>\n    </tr>\n  </tbody>\n</table>\n</div>"
     },
     "execution_count": 50,
     "metadata": {},
     "output_type": "execute_result"
    }
   ],
   "source": [
    "df1"
   ],
   "metadata": {
    "collapsed": false
   }
  }
 ],
 "metadata": {
  "kernelspec": {
   "display_name": "Python 3",
   "language": "python",
   "name": "python3"
  },
  "language_info": {
   "codemirror_mode": {
    "name": "ipython",
    "version": 2
   },
   "file_extension": ".py",
   "mimetype": "text/x-python",
   "name": "python",
   "nbconvert_exporter": "python",
   "pygments_lexer": "ipython2",
   "version": "2.7.6"
  }
 },
 "nbformat": 4,
 "nbformat_minor": 0
}
