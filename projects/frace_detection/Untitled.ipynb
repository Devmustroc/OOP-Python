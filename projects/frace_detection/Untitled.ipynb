{
 "cells": [
  {
   "cell_type": "code",
   "execution_count": null,
   "outputs": [],
   "source": [
    "import pandas"
   ],
   "metadata": {
    "collapsed": false
   }
  },
  {
   "cell_type": "code",
   "execution_count": 4,
   "id": "7e99c025",
   "metadata": {},
   "outputs": [],
   "source": [
    "df1 = pandas.read_csv(\"traffic.csv\")"
   ]
  },
  {
   "cell_type": "code",
   "execution_count": 6,
   "id": "05f0a4ac",
   "metadata": {},
   "outputs": [
    {
     "data": {
      "text/html": [
       "<div>\n",
       "<style scoped>\n",
       "    .dataframe tbody tr th:only-of-type {\n",
       "        vertical-align: middle;\n",
       "    }\n",
       "\n",
       "    .dataframe tbody tr th {\n",
       "        vertical-align: top;\n",
       "    }\n",
       "\n",
       "    .dataframe thead th {\n",
       "        text-align: right;\n",
       "    }\n",
       "</style>\n",
       "<table border=\"1\" class=\"dataframe\">\n",
       "  <thead>\n",
       "    <tr style=\"text-align: right;\">\n",
       "      <th></th>\n",
       "      <th>Date</th>\n",
       "      <th>Visitors</th>\n",
       "      <th>BR</th>\n",
       "      <th>Country</th>\n",
       "      <th>Clicks</th>\n",
       "      <th>Day</th>\n",
       "    </tr>\n",
       "  </thead>\n",
       "  <tbody>\n",
       "    <tr>\n",
       "      <th>0</th>\n",
       "      <td>1</td>\n",
       "      <td>1500</td>\n",
       "      <td>20</td>\n",
       "      <td>USA</td>\n",
       "      <td>20</td>\n",
       "      <td>Tuesday</td>\n",
       "    </tr>\n",
       "    <tr>\n",
       "      <th>1</th>\n",
       "      <td>2</td>\n",
       "      <td>700</td>\n",
       "      <td>25</td>\n",
       "      <td>UK</td>\n",
       "      <td>35</td>\n",
       "      <td>Wednesday</td>\n",
       "    </tr>\n",
       "    <tr>\n",
       "      <th>2</th>\n",
       "      <td>3</td>\n",
       "      <td>900</td>\n",
       "      <td>15</td>\n",
       "      <td>India</td>\n",
       "      <td>37</td>\n",
       "      <td>Thursday</td>\n",
       "    </tr>\n",
       "    <tr>\n",
       "      <th>3</th>\n",
       "      <td>4</td>\n",
       "      <td>400</td>\n",
       "      <td>35</td>\n",
       "      <td>USA</td>\n",
       "      <td>12</td>\n",
       "      <td>Friday</td>\n",
       "    </tr>\n",
       "    <tr>\n",
       "      <th>4</th>\n",
       "      <td>5</td>\n",
       "      <td>500</td>\n",
       "      <td>14</td>\n",
       "      <td>Canada</td>\n",
       "      <td>35</td>\n",
       "      <td>Saturday</td>\n",
       "    </tr>\n",
       "    <tr>\n",
       "      <th>5</th>\n",
       "      <td>6</td>\n",
       "      <td>700</td>\n",
       "      <td>15</td>\n",
       "      <td>India</td>\n",
       "      <td>32</td>\n",
       "      <td>Sunday</td>\n",
       "    </tr>\n",
       "    <tr>\n",
       "      <th>6</th>\n",
       "      <td>7</td>\n",
       "      <td>600</td>\n",
       "      <td>20</td>\n",
       "      <td>India</td>\n",
       "      <td>37</td>\n",
       "      <td>Monday</td>\n",
       "    </tr>\n",
       "    <tr>\n",
       "      <th>7</th>\n",
       "      <td>8</td>\n",
       "      <td>700</td>\n",
       "      <td>16</td>\n",
       "      <td>USA</td>\n",
       "      <td>40</td>\n",
       "      <td>Tuesday</td>\n",
       "    </tr>\n",
       "    <tr>\n",
       "      <th>8</th>\n",
       "      <td>9</td>\n",
       "      <td>1200</td>\n",
       "      <td>27</td>\n",
       "      <td>USA</td>\n",
       "      <td>52</td>\n",
       "      <td>Wednesday</td>\n",
       "    </tr>\n",
       "    <tr>\n",
       "      <th>9</th>\n",
       "      <td>10</td>\n",
       "      <td>1400</td>\n",
       "      <td>32</td>\n",
       "      <td>Australia</td>\n",
       "      <td>57</td>\n",
       "      <td>Thursday</td>\n",
       "    </tr>\n",
       "  </tbody>\n",
       "</table>\n",
       "</div>"
      ],
      "text/plain": [
       "   Date  Visitors  BR    Country  Clicks        Day\n",
       "0     1      1500  20        USA      20    Tuesday\n",
       "1     2       700  25         UK      35  Wednesday\n",
       "2     3       900  15      India      37   Thursday\n",
       "3     4       400  35        USA      12     Friday\n",
       "4     5       500  14     Canada      35   Saturday\n",
       "5     6       700  15      India      32     Sunday\n",
       "6     7       600  20      India      37     Monday\n",
       "7     8       700  16        USA      40    Tuesday\n",
       "8     9      1200  27        USA      52  Wednesday\n",
       "9    10      1400  32  Australia      57   Thursday"
      ]
     },
     "execution_count": 6,
     "metadata": {},
     "output_type": "execute_result"
    }
   ],
   "source": [
    "df1"
   ]
  },
  {
   "cell_type": "code",
   "execution_count": 21,
   "id": "68eaec13",
   "metadata": {
    "scrolled": true
   },
   "outputs": [
    {
     "data": {
      "text/plain": "   Date  Visitors  BR    Country  Clicks        Day\n0     1      1500  20        USA      20    Tuesday\n1     2       700  25         UK      35  Wednesday\n2     3       900  15      India      37   Thursday\n3     4       400  35        USA      12     Friday\n4     5       500  14     Canada      35   Saturday\n5     6       700  15      India      32     Sunday\n6     7       600  20      India      37     Monday\n7     8       700  16        USA      40    Tuesday\n8     9      1200  27        USA      52  Wednesday\n9    10      1400  32  Australia      57   Thursday",
      "text/html": "<div>\n<style scoped>\n    .dataframe tbody tr th:only-of-type {\n        vertical-align: middle;\n    }\n\n    .dataframe tbody tr th {\n        vertical-align: top;\n    }\n\n    .dataframe thead th {\n        text-align: right;\n    }\n</style>\n<table border=\"1\" class=\"dataframe\">\n  <thead>\n    <tr style=\"text-align: right;\">\n      <th></th>\n      <th>Date</th>\n      <th>Visitors</th>\n      <th>BR</th>\n      <th>Country</th>\n      <th>Clicks</th>\n      <th>Day</th>\n    </tr>\n  </thead>\n  <tbody>\n    <tr>\n      <th>0</th>\n      <td>1</td>\n      <td>1500</td>\n      <td>20</td>\n      <td>USA</td>\n      <td>20</td>\n      <td>Tuesday</td>\n    </tr>\n    <tr>\n      <th>1</th>\n      <td>2</td>\n      <td>700</td>\n      <td>25</td>\n      <td>UK</td>\n      <td>35</td>\n      <td>Wednesday</td>\n    </tr>\n    <tr>\n      <th>2</th>\n      <td>3</td>\n      <td>900</td>\n      <td>15</td>\n      <td>India</td>\n      <td>37</td>\n      <td>Thursday</td>\n    </tr>\n    <tr>\n      <th>3</th>\n      <td>4</td>\n      <td>400</td>\n      <td>35</td>\n      <td>USA</td>\n      <td>12</td>\n      <td>Friday</td>\n    </tr>\n    <tr>\n      <th>4</th>\n      <td>5</td>\n      <td>500</td>\n      <td>14</td>\n      <td>Canada</td>\n      <td>35</td>\n      <td>Saturday</td>\n    </tr>\n    <tr>\n      <th>5</th>\n      <td>6</td>\n      <td>700</td>\n      <td>15</td>\n      <td>India</td>\n      <td>32</td>\n      <td>Sunday</td>\n    </tr>\n    <tr>\n      <th>6</th>\n      <td>7</td>\n      <td>600</td>\n      <td>20</td>\n      <td>India</td>\n      <td>37</td>\n      <td>Monday</td>\n    </tr>\n    <tr>\n      <th>7</th>\n      <td>8</td>\n      <td>700</td>\n      <td>16</td>\n      <td>USA</td>\n      <td>40</td>\n      <td>Tuesday</td>\n    </tr>\n    <tr>\n      <th>8</th>\n      <td>9</td>\n      <td>1200</td>\n      <td>27</td>\n      <td>USA</td>\n      <td>52</td>\n      <td>Wednesday</td>\n    </tr>\n    <tr>\n      <th>9</th>\n      <td>10</td>\n      <td>1400</td>\n      <td>32</td>\n      <td>Australia</td>\n      <td>57</td>\n      <td>Thursday</td>\n    </tr>\n  </tbody>\n</table>\n</div>"
     },
     "execution_count": 21,
     "metadata": {},
     "output_type": "execute_result"
    }
   ],
   "source": [
    "df2 = pandas.read_excel(\"traffic.xlsx\")\n",
    "df2"
   ]
  },
  {
   "cell_type": "code",
   "execution_count": 31,
   "outputs": [
    {
     "data": {
      "text/plain": "      Visitors  BR  Clicks        Day\nDate                                 \n1         1500  20      20    Tuesday\n2          700  25      35  Wednesday\n3          900  15      37   Thursday\n4          400  35      12     Friday\n5          500  14      35   Saturday\n6          700  15      32     Sunday\n7          600  20      37     Monday\n8          700  16      40    Tuesday\n9         1200  27      52  Wednesday\n10        1400  32      57   Thursday",
      "text/html": "<div>\n<style scoped>\n    .dataframe tbody tr th:only-of-type {\n        vertical-align: middle;\n    }\n\n    .dataframe tbody tr th {\n        vertical-align: top;\n    }\n\n    .dataframe thead th {\n        text-align: right;\n    }\n</style>\n<table border=\"1\" class=\"dataframe\">\n  <thead>\n    <tr style=\"text-align: right;\">\n      <th></th>\n      <th>Visitors</th>\n      <th>BR</th>\n      <th>Clicks</th>\n      <th>Day</th>\n    </tr>\n    <tr>\n      <th>Date</th>\n      <th></th>\n      <th></th>\n      <th></th>\n      <th></th>\n    </tr>\n  </thead>\n  <tbody>\n    <tr>\n      <th>1</th>\n      <td>1500</td>\n      <td>20</td>\n      <td>20</td>\n      <td>Tuesday</td>\n    </tr>\n    <tr>\n      <th>2</th>\n      <td>700</td>\n      <td>25</td>\n      <td>35</td>\n      <td>Wednesday</td>\n    </tr>\n    <tr>\n      <th>3</th>\n      <td>900</td>\n      <td>15</td>\n      <td>37</td>\n      <td>Thursday</td>\n    </tr>\n    <tr>\n      <th>4</th>\n      <td>400</td>\n      <td>35</td>\n      <td>12</td>\n      <td>Friday</td>\n    </tr>\n    <tr>\n      <th>5</th>\n      <td>500</td>\n      <td>14</td>\n      <td>35</td>\n      <td>Saturday</td>\n    </tr>\n    <tr>\n      <th>6</th>\n      <td>700</td>\n      <td>15</td>\n      <td>32</td>\n      <td>Sunday</td>\n    </tr>\n    <tr>\n      <th>7</th>\n      <td>600</td>\n      <td>20</td>\n      <td>37</td>\n      <td>Monday</td>\n    </tr>\n    <tr>\n      <th>8</th>\n      <td>700</td>\n      <td>16</td>\n      <td>40</td>\n      <td>Tuesday</td>\n    </tr>\n    <tr>\n      <th>9</th>\n      <td>1200</td>\n      <td>27</td>\n      <td>52</td>\n      <td>Wednesday</td>\n    </tr>\n    <tr>\n      <th>10</th>\n      <td>1400</td>\n      <td>32</td>\n      <td>57</td>\n      <td>Thursday</td>\n    </tr>\n  </tbody>\n</table>\n</div>"
     },
     "execution_count": 31,
     "metadata": {},
     "output_type": "execute_result"
    }
   ],
   "source": [
    "df2.set_index(\"Date\")"
   ],
   "metadata": {
    "collapsed": false
   }
  },
  {
   "cell_type": "code",
   "execution_count": 36,
   "outputs": [
    {
     "data": {
      "text/plain": "   Date  Visitors  BR    Country  Clicks        Day\n0     1      1500  20        USA      20    Tuesday\n1     2       700  25         UK      35  Wednesday\n2     3       900  15      India      37   Thursday\n3     4       400  35        USA      12     Friday\n4     5       500  14     Canada      35   Saturday\n5     6       700  15      India      32     Sunday\n6     7       600  20      India      37     Monday\n7     8       700  16        USA      40    Tuesday\n8     9      1200  27        USA      52  Wednesday\n9    10      1400  32  Australia      57   Thursday",
      "text/html": "<div>\n<style scoped>\n    .dataframe tbody tr th:only-of-type {\n        vertical-align: middle;\n    }\n\n    .dataframe tbody tr th {\n        vertical-align: top;\n    }\n\n    .dataframe thead th {\n        text-align: right;\n    }\n</style>\n<table border=\"1\" class=\"dataframe\">\n  <thead>\n    <tr style=\"text-align: right;\">\n      <th></th>\n      <th>Date</th>\n      <th>Visitors</th>\n      <th>BR</th>\n      <th>Country</th>\n      <th>Clicks</th>\n      <th>Day</th>\n    </tr>\n  </thead>\n  <tbody>\n    <tr>\n      <th>0</th>\n      <td>1</td>\n      <td>1500</td>\n      <td>20</td>\n      <td>USA</td>\n      <td>20</td>\n      <td>Tuesday</td>\n    </tr>\n    <tr>\n      <th>1</th>\n      <td>2</td>\n      <td>700</td>\n      <td>25</td>\n      <td>UK</td>\n      <td>35</td>\n      <td>Wednesday</td>\n    </tr>\n    <tr>\n      <th>2</th>\n      <td>3</td>\n      <td>900</td>\n      <td>15</td>\n      <td>India</td>\n      <td>37</td>\n      <td>Thursday</td>\n    </tr>\n    <tr>\n      <th>3</th>\n      <td>4</td>\n      <td>400</td>\n      <td>35</td>\n      <td>USA</td>\n      <td>12</td>\n      <td>Friday</td>\n    </tr>\n    <tr>\n      <th>4</th>\n      <td>5</td>\n      <td>500</td>\n      <td>14</td>\n      <td>Canada</td>\n      <td>35</td>\n      <td>Saturday</td>\n    </tr>\n    <tr>\n      <th>5</th>\n      <td>6</td>\n      <td>700</td>\n      <td>15</td>\n      <td>India</td>\n      <td>32</td>\n      <td>Sunday</td>\n    </tr>\n    <tr>\n      <th>6</th>\n      <td>7</td>\n      <td>600</td>\n      <td>20</td>\n      <td>India</td>\n      <td>37</td>\n      <td>Monday</td>\n    </tr>\n    <tr>\n      <th>7</th>\n      <td>8</td>\n      <td>700</td>\n      <td>16</td>\n      <td>USA</td>\n      <td>40</td>\n      <td>Tuesday</td>\n    </tr>\n    <tr>\n      <th>8</th>\n      <td>9</td>\n      <td>1200</td>\n      <td>27</td>\n      <td>USA</td>\n      <td>52</td>\n      <td>Wednesday</td>\n    </tr>\n    <tr>\n      <th>9</th>\n      <td>10</td>\n      <td>1400</td>\n      <td>32</td>\n      <td>Australia</td>\n      <td>57</td>\n      <td>Thursday</td>\n    </tr>\n  </tbody>\n</table>\n</div>"
     },
     "execution_count": 36,
     "metadata": {},
     "output_type": "execute_result"
    }
   ],
   "source": [
    "df3 = pandas.read_csv(\"traffic-semi-colons.txt\", sep=\";\")\n",
    "df3"
   ],
   "metadata": {
    "collapsed": false
   }
  },
  {
   "cell_type": "code",
   "execution_count": 37,
   "outputs": [
    {
     "data": {
      "text/plain": "    Index  Organization Id                     Name   \n0       1  FAB0d41d5b5d22c              Ferrell LLC  \\\n1       2  6A7EdDEA9FaDC52  Mckinney, Riley and Day   \n2       3  0bFED1ADAE4bcC1               Hester Ltd   \n3       4  2bFC1Be8a4ce42f           Holder-Sellers   \n4       5  9eE8A6a4Eb96C24              Mayer Group   \n..    ...              ...                      ...   \n95     96  0a0bfFbBbB8eC7c             Holmes Group   \n96     97  BA6Cd9Dae2Efd62                 Good Ltd   \n97     98  E7df80C60Abd7f9        Clements-Espinoza   \n98     99  AFc285dbE2fEd24               Mendez Inc   \n99    100  e9eB5A60Cef8354           Watkins-Kaiser   \n\n                           Website                      Country   \n0               https://price.net/             Papua New Guinea  \\\n1   http://www.hall-buchanan.info/                      Finland   \n2        http://sullivan-reed.com/                        China   \n3              https://becker.com/                 Turkmenistan   \n4           http://www.brewer.com/                    Mauritius   \n..                             ...                          ...   \n95           https://mcdowell.org/                     Ethiopia   \n96               http://duffy.com/                     Anguilla   \n97         http://www.flowers.net/  Falkland Islands (Malvinas)   \n98          https://www.burke.net/              Kyrgyz Republic   \n99         http://www.herring.com/                         Togo   \n\n                                       Description  Founded   \n0              Horizontal empowering knowledgebase     1990  \\\n1              User-centric system-worthy leverage     2015   \n2                   Switchable scalable moratorium     1971   \n3   De-engineered systemic artificial intelligence     2004   \n4               Synchronized needs-based challenge     1991   \n..                                             ...      ...   \n95          Right-sized zero tolerance focus group     1975   \n96         Reverse-engineered composite moratorium     1971   \n97                         Progressive modular hub     1991   \n98                 User-friendly exuding migration     1993   \n99                   Synergistic background access     2009   \n\n                       Industry  Number of employees  \n0                      Plastics                 3498  \n1   Glass / Ceramics / Concrete                 4952  \n2                 Public Safety                 5287  \n3                    Automotive                  921  \n4                Transportation                 7870  \n..                          ...                  ...  \n95                  Photography                 2988  \n96            Consumer Services                 4292  \n97              Broadcast Media                  236  \n98         Education Management                  339  \n99           Financial Services                 2785  \n\n[100 rows x 9 columns]",
      "text/html": "<div>\n<style scoped>\n    .dataframe tbody tr th:only-of-type {\n        vertical-align: middle;\n    }\n\n    .dataframe tbody tr th {\n        vertical-align: top;\n    }\n\n    .dataframe thead th {\n        text-align: right;\n    }\n</style>\n<table border=\"1\" class=\"dataframe\">\n  <thead>\n    <tr style=\"text-align: right;\">\n      <th></th>\n      <th>Index</th>\n      <th>Organization Id</th>\n      <th>Name</th>\n      <th>Website</th>\n      <th>Country</th>\n      <th>Description</th>\n      <th>Founded</th>\n      <th>Industry</th>\n      <th>Number of employees</th>\n    </tr>\n  </thead>\n  <tbody>\n    <tr>\n      <th>0</th>\n      <td>1</td>\n      <td>FAB0d41d5b5d22c</td>\n      <td>Ferrell LLC</td>\n      <td>https://price.net/</td>\n      <td>Papua New Guinea</td>\n      <td>Horizontal empowering knowledgebase</td>\n      <td>1990</td>\n      <td>Plastics</td>\n      <td>3498</td>\n    </tr>\n    <tr>\n      <th>1</th>\n      <td>2</td>\n      <td>6A7EdDEA9FaDC52</td>\n      <td>Mckinney, Riley and Day</td>\n      <td>http://www.hall-buchanan.info/</td>\n      <td>Finland</td>\n      <td>User-centric system-worthy leverage</td>\n      <td>2015</td>\n      <td>Glass / Ceramics / Concrete</td>\n      <td>4952</td>\n    </tr>\n    <tr>\n      <th>2</th>\n      <td>3</td>\n      <td>0bFED1ADAE4bcC1</td>\n      <td>Hester Ltd</td>\n      <td>http://sullivan-reed.com/</td>\n      <td>China</td>\n      <td>Switchable scalable moratorium</td>\n      <td>1971</td>\n      <td>Public Safety</td>\n      <td>5287</td>\n    </tr>\n    <tr>\n      <th>3</th>\n      <td>4</td>\n      <td>2bFC1Be8a4ce42f</td>\n      <td>Holder-Sellers</td>\n      <td>https://becker.com/</td>\n      <td>Turkmenistan</td>\n      <td>De-engineered systemic artificial intelligence</td>\n      <td>2004</td>\n      <td>Automotive</td>\n      <td>921</td>\n    </tr>\n    <tr>\n      <th>4</th>\n      <td>5</td>\n      <td>9eE8A6a4Eb96C24</td>\n      <td>Mayer Group</td>\n      <td>http://www.brewer.com/</td>\n      <td>Mauritius</td>\n      <td>Synchronized needs-based challenge</td>\n      <td>1991</td>\n      <td>Transportation</td>\n      <td>7870</td>\n    </tr>\n    <tr>\n      <th>...</th>\n      <td>...</td>\n      <td>...</td>\n      <td>...</td>\n      <td>...</td>\n      <td>...</td>\n      <td>...</td>\n      <td>...</td>\n      <td>...</td>\n      <td>...</td>\n    </tr>\n    <tr>\n      <th>95</th>\n      <td>96</td>\n      <td>0a0bfFbBbB8eC7c</td>\n      <td>Holmes Group</td>\n      <td>https://mcdowell.org/</td>\n      <td>Ethiopia</td>\n      <td>Right-sized zero tolerance focus group</td>\n      <td>1975</td>\n      <td>Photography</td>\n      <td>2988</td>\n    </tr>\n    <tr>\n      <th>96</th>\n      <td>97</td>\n      <td>BA6Cd9Dae2Efd62</td>\n      <td>Good Ltd</td>\n      <td>http://duffy.com/</td>\n      <td>Anguilla</td>\n      <td>Reverse-engineered composite moratorium</td>\n      <td>1971</td>\n      <td>Consumer Services</td>\n      <td>4292</td>\n    </tr>\n    <tr>\n      <th>97</th>\n      <td>98</td>\n      <td>E7df80C60Abd7f9</td>\n      <td>Clements-Espinoza</td>\n      <td>http://www.flowers.net/</td>\n      <td>Falkland Islands (Malvinas)</td>\n      <td>Progressive modular hub</td>\n      <td>1991</td>\n      <td>Broadcast Media</td>\n      <td>236</td>\n    </tr>\n    <tr>\n      <th>98</th>\n      <td>99</td>\n      <td>AFc285dbE2fEd24</td>\n      <td>Mendez Inc</td>\n      <td>https://www.burke.net/</td>\n      <td>Kyrgyz Republic</td>\n      <td>User-friendly exuding migration</td>\n      <td>1993</td>\n      <td>Education Management</td>\n      <td>339</td>\n    </tr>\n    <tr>\n      <th>99</th>\n      <td>100</td>\n      <td>e9eB5A60Cef8354</td>\n      <td>Watkins-Kaiser</td>\n      <td>http://www.herring.com/</td>\n      <td>Togo</td>\n      <td>Synergistic background access</td>\n      <td>2009</td>\n      <td>Financial Services</td>\n      <td>2785</td>\n    </tr>\n  </tbody>\n</table>\n<p>100 rows × 9 columns</p>\n</div>"
     },
     "execution_count": 37,
     "metadata": {},
     "output_type": "execute_result"
    }
   ],
   "source": [
    "df6 = pandas.read_csv(\"https://media.githubusercontent.com/media/datablist/sample-csv-files/main/files/organizations/organizations-100.csv\")\n",
    "df6"
   ],
   "metadata": {
    "collapsed": false
   }
  }
 ],
 "metadata": {
  "kernelspec": {
   "display_name": "Python 3 (ipykernel)",
   "language": "python",
   "name": "python3"
  },
  "language_info": {
   "codemirror_mode": {
    "name": "ipython",
    "version": 3
   },
   "file_extension": ".py",
   "mimetype": "text/x-python",
   "name": "python",
   "nbconvert_exporter": "python",
   "pygments_lexer": "ipython3",
   "version": "3.9.13"
  }
 },
 "nbformat": 4,
 "nbformat_minor": 5
}
