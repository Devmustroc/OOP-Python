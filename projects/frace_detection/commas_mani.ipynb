{
 "cells": [
  {
   "cell_type": "code",
   "execution_count": 3,
   "metadata": {
    "collapsed": true
   },
   "outputs": [],
   "source": [
    "import pandas as pd"
   ]
  },
  {
   "cell_type": "code",
   "execution_count": 4,
   "outputs": [
    {
     "data": {
      "text/plain": "   Date  Visitors  BR    Country  Clicks        Day\n0     1      1500  20        USA      20    Tuesday\n1     2       700  25         UK      35  Wednesday\n2     3       900  15      India      37   Thursday\n3     4       400  35        USA      12     Friday\n4     5       500  14     Canada      35   Saturday\n5     6       700  15      India      32     Sunday\n6     7       600  20      India      37     Monday\n7     8       700  16        USA      40    Tuesday\n8     9      1200  27        USA      52  Wednesday\n9    10      1400  32  Australia      57   Thursday",
      "text/html": "<div>\n<style scoped>\n    .dataframe tbody tr th:only-of-type {\n        vertical-align: middle;\n    }\n\n    .dataframe tbody tr th {\n        vertical-align: top;\n    }\n\n    .dataframe thead th {\n        text-align: right;\n    }\n</style>\n<table border=\"1\" class=\"dataframe\">\n  <thead>\n    <tr style=\"text-align: right;\">\n      <th></th>\n      <th>Date</th>\n      <th>Visitors</th>\n      <th>BR</th>\n      <th>Country</th>\n      <th>Clicks</th>\n      <th>Day</th>\n    </tr>\n  </thead>\n  <tbody>\n    <tr>\n      <th>0</th>\n      <td>1</td>\n      <td>1500</td>\n      <td>20</td>\n      <td>USA</td>\n      <td>20</td>\n      <td>Tuesday</td>\n    </tr>\n    <tr>\n      <th>1</th>\n      <td>2</td>\n      <td>700</td>\n      <td>25</td>\n      <td>UK</td>\n      <td>35</td>\n      <td>Wednesday</td>\n    </tr>\n    <tr>\n      <th>2</th>\n      <td>3</td>\n      <td>900</td>\n      <td>15</td>\n      <td>India</td>\n      <td>37</td>\n      <td>Thursday</td>\n    </tr>\n    <tr>\n      <th>3</th>\n      <td>4</td>\n      <td>400</td>\n      <td>35</td>\n      <td>USA</td>\n      <td>12</td>\n      <td>Friday</td>\n    </tr>\n    <tr>\n      <th>4</th>\n      <td>5</td>\n      <td>500</td>\n      <td>14</td>\n      <td>Canada</td>\n      <td>35</td>\n      <td>Saturday</td>\n    </tr>\n    <tr>\n      <th>5</th>\n      <td>6</td>\n      <td>700</td>\n      <td>15</td>\n      <td>India</td>\n      <td>32</td>\n      <td>Sunday</td>\n    </tr>\n    <tr>\n      <th>6</th>\n      <td>7</td>\n      <td>600</td>\n      <td>20</td>\n      <td>India</td>\n      <td>37</td>\n      <td>Monday</td>\n    </tr>\n    <tr>\n      <th>7</th>\n      <td>8</td>\n      <td>700</td>\n      <td>16</td>\n      <td>USA</td>\n      <td>40</td>\n      <td>Tuesday</td>\n    </tr>\n    <tr>\n      <th>8</th>\n      <td>9</td>\n      <td>1200</td>\n      <td>27</td>\n      <td>USA</td>\n      <td>52</td>\n      <td>Wednesday</td>\n    </tr>\n    <tr>\n      <th>9</th>\n      <td>10</td>\n      <td>1400</td>\n      <td>32</td>\n      <td>Australia</td>\n      <td>57</td>\n      <td>Thursday</td>\n    </tr>\n  </tbody>\n</table>\n</div>"
     },
     "execution_count": 4,
     "metadata": {},
     "output_type": "execute_result"
    }
   ],
   "source": [
    "df1 = pd.read_json(\"traffic.json\")\n",
    "df1"
   ],
   "metadata": {
    "collapsed": false
   }
  },
  {
   "cell_type": "code",
   "execution_count": 7,
   "outputs": [
    {
     "data": {
      "text/plain": "   Visitors  BR Country  Clicks       Day\n2       900  15   India      37  Thursday\n3       400  35     USA      12    Friday",
      "text/html": "<div>\n<style scoped>\n    .dataframe tbody tr th:only-of-type {\n        vertical-align: middle;\n    }\n\n    .dataframe tbody tr th {\n        vertical-align: top;\n    }\n\n    .dataframe thead th {\n        text-align: right;\n    }\n</style>\n<table border=\"1\" class=\"dataframe\">\n  <thead>\n    <tr style=\"text-align: right;\">\n      <th></th>\n      <th>Visitors</th>\n      <th>BR</th>\n      <th>Country</th>\n      <th>Clicks</th>\n      <th>Day</th>\n    </tr>\n  </thead>\n  <tbody>\n    <tr>\n      <th>2</th>\n      <td>900</td>\n      <td>15</td>\n      <td>India</td>\n      <td>37</td>\n      <td>Thursday</td>\n    </tr>\n    <tr>\n      <th>3</th>\n      <td>400</td>\n      <td>35</td>\n      <td>USA</td>\n      <td>12</td>\n      <td>Friday</td>\n    </tr>\n  </tbody>\n</table>\n</div>"
     },
     "execution_count": 7,
     "metadata": {},
     "output_type": "execute_result"
    }
   ],
   "source": [
    "df1.loc[2:3, \"Visitors\": \"Day\"]"
   ],
   "metadata": {
    "collapsed": false
   }
  },
  {
   "cell_type": "code",
   "execution_count": 9,
   "outputs": [
    {
     "data": {
      "text/plain": "   Visitors  BR\n2       900  15\n3       400  35\n4       500  14\n5       700  15",
      "text/html": "<div>\n<style scoped>\n    .dataframe tbody tr th:only-of-type {\n        vertical-align: middle;\n    }\n\n    .dataframe tbody tr th {\n        vertical-align: top;\n    }\n\n    .dataframe thead th {\n        text-align: right;\n    }\n</style>\n<table border=\"1\" class=\"dataframe\">\n  <thead>\n    <tr style=\"text-align: right;\">\n      <th></th>\n      <th>Visitors</th>\n      <th>BR</th>\n    </tr>\n  </thead>\n  <tbody>\n    <tr>\n      <th>2</th>\n      <td>900</td>\n      <td>15</td>\n    </tr>\n    <tr>\n      <th>3</th>\n      <td>400</td>\n      <td>35</td>\n    </tr>\n    <tr>\n      <th>4</th>\n      <td>500</td>\n      <td>14</td>\n    </tr>\n    <tr>\n      <th>5</th>\n      <td>700</td>\n      <td>15</td>\n    </tr>\n  </tbody>\n</table>\n</div>"
     },
     "execution_count": 9,
     "metadata": {},
     "output_type": "execute_result"
    }
   ],
   "source": [
    "df1.iloc[2:6, 1:3]"
   ],
   "metadata": {
    "collapsed": false
   }
  },
  {
   "cell_type": "code",
   "execution_count": 12,
   "outputs": [
    {
     "data": {
      "text/plain": "                0          1         2       3         4       5       6   \nDate            1          2         3       4         5       6       7  \\\nVisitors     1500        700       900     400       500     700     600   \nBR             20         25        15      35        14      15      20   \nCountry       USA         UK     India     USA    Canada   India   India   \nClicks         20         35        37      12        35      32      37   \nDay       Tuesday  Wednesday  Thursday  Friday  Saturday  Sunday  Monday   \n\n                7          8          9  \nDate            8          9         10  \nVisitors      700       1200       1400  \nBR             16         27         32  \nCountry       USA        USA  Australia  \nClicks         40         52         57  \nDay       Tuesday  Wednesday   Thursday  ",
      "text/html": "<div>\n<style scoped>\n    .dataframe tbody tr th:only-of-type {\n        vertical-align: middle;\n    }\n\n    .dataframe tbody tr th {\n        vertical-align: top;\n    }\n\n    .dataframe thead th {\n        text-align: right;\n    }\n</style>\n<table border=\"1\" class=\"dataframe\">\n  <thead>\n    <tr style=\"text-align: right;\">\n      <th></th>\n      <th>0</th>\n      <th>1</th>\n      <th>2</th>\n      <th>3</th>\n      <th>4</th>\n      <th>5</th>\n      <th>6</th>\n      <th>7</th>\n      <th>8</th>\n      <th>9</th>\n    </tr>\n  </thead>\n  <tbody>\n    <tr>\n      <th>Date</th>\n      <td>1</td>\n      <td>2</td>\n      <td>3</td>\n      <td>4</td>\n      <td>5</td>\n      <td>6</td>\n      <td>7</td>\n      <td>8</td>\n      <td>9</td>\n      <td>10</td>\n    </tr>\n    <tr>\n      <th>Visitors</th>\n      <td>1500</td>\n      <td>700</td>\n      <td>900</td>\n      <td>400</td>\n      <td>500</td>\n      <td>700</td>\n      <td>600</td>\n      <td>700</td>\n      <td>1200</td>\n      <td>1400</td>\n    </tr>\n    <tr>\n      <th>BR</th>\n      <td>20</td>\n      <td>25</td>\n      <td>15</td>\n      <td>35</td>\n      <td>14</td>\n      <td>15</td>\n      <td>20</td>\n      <td>16</td>\n      <td>27</td>\n      <td>32</td>\n    </tr>\n    <tr>\n      <th>Country</th>\n      <td>USA</td>\n      <td>UK</td>\n      <td>India</td>\n      <td>USA</td>\n      <td>Canada</td>\n      <td>India</td>\n      <td>India</td>\n      <td>USA</td>\n      <td>USA</td>\n      <td>Australia</td>\n    </tr>\n    <tr>\n      <th>Clicks</th>\n      <td>20</td>\n      <td>35</td>\n      <td>37</td>\n      <td>12</td>\n      <td>35</td>\n      <td>32</td>\n      <td>37</td>\n      <td>40</td>\n      <td>52</td>\n      <td>57</td>\n    </tr>\n    <tr>\n      <th>Day</th>\n      <td>Tuesday</td>\n      <td>Wednesday</td>\n      <td>Thursday</td>\n      <td>Friday</td>\n      <td>Saturday</td>\n      <td>Sunday</td>\n      <td>Monday</td>\n      <td>Tuesday</td>\n      <td>Wednesday</td>\n      <td>Thursday</td>\n    </tr>\n  </tbody>\n</table>\n</div>"
     },
     "execution_count": 12,
     "metadata": {},
     "output_type": "execute_result"
    }
   ],
   "source": [
    "df2 = df1.T\n",
    "df2"
   ],
   "metadata": {
    "collapsed": false
   }
  },
  {
   "cell_type": "code",
   "execution_count": 14,
   "outputs": [
    {
     "data": {
      "text/plain": "               0          1         2       3         4       5       6    \nDate            1          2         3       4         5       6       7  \\\nVisitors     1500        700       900     400       500     700     600   \nBR             20         25        15      35        14      15      20   \nCountry       USA         UK     India     USA    Canada   India   India   \nClicks         20         35        37      12        35      32      37   \nDay       Tuesday  Wednesday  Thursday  Friday  Saturday  Sunday  Monday   \n\n               7          8          9        10  \nDate            8          9         10       11  \nVisitors      700       1200       1400     2500  \nBR             16         27         32       30  \nCountry       USA        USA  Australia  Morocco  \nClicks         40         52         57      300  \nDay       Tuesday  Wednesday   Thursday   Sunday  ",
      "text/html": "<div>\n<style scoped>\n    .dataframe tbody tr th:only-of-type {\n        vertical-align: middle;\n    }\n\n    .dataframe tbody tr th {\n        vertical-align: top;\n    }\n\n    .dataframe thead th {\n        text-align: right;\n    }\n</style>\n<table border=\"1\" class=\"dataframe\">\n  <thead>\n    <tr style=\"text-align: right;\">\n      <th></th>\n      <th>0</th>\n      <th>1</th>\n      <th>2</th>\n      <th>3</th>\n      <th>4</th>\n      <th>5</th>\n      <th>6</th>\n      <th>7</th>\n      <th>8</th>\n      <th>9</th>\n      <th>10</th>\n    </tr>\n  </thead>\n  <tbody>\n    <tr>\n      <th>Date</th>\n      <td>1</td>\n      <td>2</td>\n      <td>3</td>\n      <td>4</td>\n      <td>5</td>\n      <td>6</td>\n      <td>7</td>\n      <td>8</td>\n      <td>9</td>\n      <td>10</td>\n      <td>11</td>\n    </tr>\n    <tr>\n      <th>Visitors</th>\n      <td>1500</td>\n      <td>700</td>\n      <td>900</td>\n      <td>400</td>\n      <td>500</td>\n      <td>700</td>\n      <td>600</td>\n      <td>700</td>\n      <td>1200</td>\n      <td>1400</td>\n      <td>2500</td>\n    </tr>\n    <tr>\n      <th>BR</th>\n      <td>20</td>\n      <td>25</td>\n      <td>15</td>\n      <td>35</td>\n      <td>14</td>\n      <td>15</td>\n      <td>20</td>\n      <td>16</td>\n      <td>27</td>\n      <td>32</td>\n      <td>30</td>\n    </tr>\n    <tr>\n      <th>Country</th>\n      <td>USA</td>\n      <td>UK</td>\n      <td>India</td>\n      <td>USA</td>\n      <td>Canada</td>\n      <td>India</td>\n      <td>India</td>\n      <td>USA</td>\n      <td>USA</td>\n      <td>Australia</td>\n      <td>Morocco</td>\n    </tr>\n    <tr>\n      <th>Clicks</th>\n      <td>20</td>\n      <td>35</td>\n      <td>37</td>\n      <td>12</td>\n      <td>35</td>\n      <td>32</td>\n      <td>37</td>\n      <td>40</td>\n      <td>52</td>\n      <td>57</td>\n      <td>300</td>\n    </tr>\n    <tr>\n      <th>Day</th>\n      <td>Tuesday</td>\n      <td>Wednesday</td>\n      <td>Thursday</td>\n      <td>Friday</td>\n      <td>Saturday</td>\n      <td>Sunday</td>\n      <td>Monday</td>\n      <td>Tuesday</td>\n      <td>Wednesday</td>\n      <td>Thursday</td>\n      <td>Sunday</td>\n    </tr>\n  </tbody>\n</table>\n</div>"
     },
     "execution_count": 14,
     "metadata": {},
     "output_type": "execute_result"
    }
   ],
   "source": [
    "df2[10] = [11, 2500, 30, \"Morocco\", 300, \"Sunday\"]\n",
    "df2"
   ],
   "metadata": {
    "collapsed": false
   }
  },
  {
   "cell_type": "code",
   "execution_count": 15,
   "outputs": [
    {
     "data": {
      "text/plain": "   Date Visitors  BR    Country Clicks        Day\n0     1     1500  20        USA     20    Tuesday\n1     2      700  25         UK     35  Wednesday\n2     3      900  15      India     37   Thursday\n3     4      400  35        USA     12     Friday\n4     5      500  14     Canada     35   Saturday\n5     6      700  15      India     32     Sunday\n6     7      600  20      India     37     Monday\n7     8      700  16        USA     40    Tuesday\n8     9     1200  27        USA     52  Wednesday\n9    10     1400  32  Australia     57   Thursday\n10   11     2500  30    Morocco    300     Sunday",
      "text/html": "<div>\n<style scoped>\n    .dataframe tbody tr th:only-of-type {\n        vertical-align: middle;\n    }\n\n    .dataframe tbody tr th {\n        vertical-align: top;\n    }\n\n    .dataframe thead th {\n        text-align: right;\n    }\n</style>\n<table border=\"1\" class=\"dataframe\">\n  <thead>\n    <tr style=\"text-align: right;\">\n      <th></th>\n      <th>Date</th>\n      <th>Visitors</th>\n      <th>BR</th>\n      <th>Country</th>\n      <th>Clicks</th>\n      <th>Day</th>\n    </tr>\n  </thead>\n  <tbody>\n    <tr>\n      <th>0</th>\n      <td>1</td>\n      <td>1500</td>\n      <td>20</td>\n      <td>USA</td>\n      <td>20</td>\n      <td>Tuesday</td>\n    </tr>\n    <tr>\n      <th>1</th>\n      <td>2</td>\n      <td>700</td>\n      <td>25</td>\n      <td>UK</td>\n      <td>35</td>\n      <td>Wednesday</td>\n    </tr>\n    <tr>\n      <th>2</th>\n      <td>3</td>\n      <td>900</td>\n      <td>15</td>\n      <td>India</td>\n      <td>37</td>\n      <td>Thursday</td>\n    </tr>\n    <tr>\n      <th>3</th>\n      <td>4</td>\n      <td>400</td>\n      <td>35</td>\n      <td>USA</td>\n      <td>12</td>\n      <td>Friday</td>\n    </tr>\n    <tr>\n      <th>4</th>\n      <td>5</td>\n      <td>500</td>\n      <td>14</td>\n      <td>Canada</td>\n      <td>35</td>\n      <td>Saturday</td>\n    </tr>\n    <tr>\n      <th>5</th>\n      <td>6</td>\n      <td>700</td>\n      <td>15</td>\n      <td>India</td>\n      <td>32</td>\n      <td>Sunday</td>\n    </tr>\n    <tr>\n      <th>6</th>\n      <td>7</td>\n      <td>600</td>\n      <td>20</td>\n      <td>India</td>\n      <td>37</td>\n      <td>Monday</td>\n    </tr>\n    <tr>\n      <th>7</th>\n      <td>8</td>\n      <td>700</td>\n      <td>16</td>\n      <td>USA</td>\n      <td>40</td>\n      <td>Tuesday</td>\n    </tr>\n    <tr>\n      <th>8</th>\n      <td>9</td>\n      <td>1200</td>\n      <td>27</td>\n      <td>USA</td>\n      <td>52</td>\n      <td>Wednesday</td>\n    </tr>\n    <tr>\n      <th>9</th>\n      <td>10</td>\n      <td>1400</td>\n      <td>32</td>\n      <td>Australia</td>\n      <td>57</td>\n      <td>Thursday</td>\n    </tr>\n    <tr>\n      <th>10</th>\n      <td>11</td>\n      <td>2500</td>\n      <td>30</td>\n      <td>Morocco</td>\n      <td>300</td>\n      <td>Sunday</td>\n    </tr>\n  </tbody>\n</table>\n</div>"
     },
     "execution_count": 15,
     "metadata": {},
     "output_type": "execute_result"
    }
   ],
   "source": [
    "df2 = df2.T\n",
    "df2"
   ],
   "metadata": {
    "collapsed": false
   }
  }
 ],
 "metadata": {
  "kernelspec": {
   "display_name": "Python 3",
   "language": "python",
   "name": "python3"
  },
  "language_info": {
   "codemirror_mode": {
    "name": "ipython",
    "version": 2
   },
   "file_extension": ".py",
   "mimetype": "text/x-python",
   "name": "python",
   "nbconvert_exporter": "python",
   "pygments_lexer": "ipython2",
   "version": "2.7.6"
  }
 },
 "nbformat": 4,
 "nbformat_minor": 0
}
